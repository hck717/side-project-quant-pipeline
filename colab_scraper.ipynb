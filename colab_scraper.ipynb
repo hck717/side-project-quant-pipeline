{
  "nbformat": 4,
  "nbformat_minor": 0,
  "metadata": {
    "colab": {
      "provenance": [],
      "authorship_tag": "ABX9TyPrb7oiEGV7IhtugoXPsM/h",
      "include_colab_link": true
    },
    "kernelspec": {
      "name": "python3",
      "display_name": "Python 3"
    },
    "language_info": {
      "name": "python"
    }
  },
  "cells": [
    {
      "cell_type": "markdown",
      "metadata": {
        "id": "view-in-github",
        "colab_type": "text"
      },
      "source": [
        "<a href=\"https://colab.research.google.com/github/hck717/side-project-quant-pipeline/blob/main/colab_scraper.ipynb\" target=\"_parent\"><img src=\"https://colab.research.google.com/assets/colab-badge.svg\" alt=\"Open In Colab\"/></a>"
      ]
    },
    {
      "cell_type": "code",
      "execution_count": 1,
      "metadata": {
        "colab": {
          "base_uri": "https://localhost:8080/",
          "height": 508
        },
        "id": "_2LXs138Zc_V",
        "outputId": "05ce1933-36f5-431c-edf2-780acb802c29"
      },
      "outputs": [
        {
          "output_type": "stream",
          "name": "stdout",
          "text": [
            "\u001b[?25l   \u001b[90m━━━━━━━━━━━━━━━━━━━━━━━━━━━━━━━━━━━━━━━━\u001b[0m \u001b[32m0.0/3.9 MB\u001b[0m \u001b[31m?\u001b[0m eta \u001b[36m-:--:--\u001b[0m\r\u001b[2K   \u001b[91m━━━━━\u001b[0m\u001b[91m╸\u001b[0m\u001b[90m━━━━━━━━━━━━━━━━━━━━━━━━━━━━━━━━━━\u001b[0m \u001b[32m0.5/3.9 MB\u001b[0m \u001b[31m17.3 MB/s\u001b[0m eta \u001b[36m0:00:01\u001b[0m\r\u001b[2K   \u001b[91m━━━━━━━━━━━━━\u001b[0m\u001b[91m╸\u001b[0m\u001b[90m━━━━━━━━━━━━━━━━━━━━━━━━━━\u001b[0m \u001b[32m1.4/3.9 MB\u001b[0m \u001b[31m19.5 MB/s\u001b[0m eta \u001b[36m0:00:01\u001b[0m\r\u001b[2K   \u001b[91m━━━━━━━━━━━━━━━━━━━━━━━━━━\u001b[0m\u001b[91m╸\u001b[0m\u001b[90m━━━━━━━━━━━━━\u001b[0m \u001b[32m2.6/3.9 MB\u001b[0m \u001b[31m25.7 MB/s\u001b[0m eta \u001b[36m0:00:01\u001b[0m\r\u001b[2K   \u001b[91m━━━━━━━━━━━━━━━━━━━━━━━━━━━━━━━━━━━━━━━\u001b[0m\u001b[91m╸\u001b[0m \u001b[32m3.9/3.9 MB\u001b[0m \u001b[31m28.7 MB/s\u001b[0m eta \u001b[36m0:00:01\u001b[0m\r\u001b[2K   \u001b[90m━━━━━━━━━━━━━━━━━━━━━━━━━━━━━━━━━━━━━━━━\u001b[0m \u001b[32m3.9/3.9 MB\u001b[0m \u001b[31m23.3 MB/s\u001b[0m eta \u001b[36m0:00:00\u001b[0m\n",
            "\u001b[?25h\n",
            "=== Fetching crypto_ticks ===\n"
          ]
        },
        {
          "output_type": "stream",
          "name": "stderr",
          "text": [
            "/tmp/ipython-input-1015689530.py:32: FutureWarning: YF.download() has changed argument auto_adjust default to True\n",
            "  df = yf.download(symbols, period=\"1d\", interval=interval, group_by='ticker', threads=True)\n",
            "[*********************100%***********************]  5 of 5 completed"
          ]
        },
        {
          "output_type": "stream",
          "name": "stdout",
          "text": [
            "[SCRAPE DEBUG] crypto_ticks {'symbol': 'BTC-USD', 'timestamp': '2025-09-18T12:53:00+00:00', 'open': 117142.6171875, 'high': 117142.6171875, 'low': 117142.6171875, 'close': 117142.6171875, 'volume': 4546560.0, 'ingested_at': '2025-09-18T12:55:12.332999'}\n"
          ]
        },
        {
          "output_type": "stream",
          "name": "stderr",
          "text": [
            "\n",
            "/tmp/ipython-input-1015689530.py:53: DeprecationWarning: datetime.datetime.utcnow() is deprecated and scheduled for removal in a future version. Use timezone-aware objects to represent datetimes in UTC: datetime.datetime.now(datetime.UTC).\n",
            "  \"ingested_at\": datetime.utcnow().isoformat()\n"
          ]
        },
        {
          "output_type": "error",
          "ename": "TypeError",
          "evalue": "float() argument must be a string or a real number, not 'NaTType'",
          "traceback": [
            "\u001b[0;31m---------------------------------------------------------------------------\u001b[0m",
            "\u001b[0;31mTypeError\u001b[0m                                 Traceback (most recent call last)",
            "\u001b[0;32m/tmp/ipython-input-1015689530.py\u001b[0m in \u001b[0;36m<cell line: 0>\u001b[0;34m()\u001b[0m\n\u001b[1;32m     58\u001b[0m \u001b[0;34m\u001b[0m\u001b[0m\n\u001b[1;32m     59\u001b[0m \u001b[0;31m# --- RUN SCRAPES ---\u001b[0m\u001b[0;34m\u001b[0m\u001b[0;34m\u001b[0m\u001b[0m\n\u001b[0;32m---> 60\u001b[0;31m \u001b[0mproduce_latest\u001b[0m\u001b[0;34m(\u001b[0m\u001b[0mcrypto_tickers\u001b[0m\u001b[0;34m,\u001b[0m \u001b[0mcrypto_topic\u001b[0m\u001b[0;34m,\u001b[0m \u001b[0minterval\u001b[0m\u001b[0;34m=\u001b[0m\u001b[0;34m\"1m\"\u001b[0m\u001b[0;34m)\u001b[0m\u001b[0;34m\u001b[0m\u001b[0;34m\u001b[0m\u001b[0m\n\u001b[0m\u001b[1;32m     61\u001b[0m \u001b[0mproduce_latest\u001b[0m\u001b[0;34m(\u001b[0m\u001b[0mequity_tickers\u001b[0m\u001b[0;34m,\u001b[0m \u001b[0mequity_topic\u001b[0m\u001b[0;34m,\u001b[0m \u001b[0minterval\u001b[0m\u001b[0;34m=\u001b[0m\u001b[0;34m\"1m\"\u001b[0m\u001b[0;34m)\u001b[0m\u001b[0;34m\u001b[0m\u001b[0;34m\u001b[0m\u001b[0m\n\u001b[1;32m     62\u001b[0m \u001b[0mproduce_latest\u001b[0m\u001b[0;34m(\u001b[0m\u001b[0mtreasury_tickers\u001b[0m\u001b[0;34m,\u001b[0m \u001b[0mbonds_topic\u001b[0m\u001b[0;34m,\u001b[0m \u001b[0minterval\u001b[0m\u001b[0;34m=\u001b[0m\u001b[0;34m\"1d\"\u001b[0m\u001b[0;34m)\u001b[0m\u001b[0;34m\u001b[0m\u001b[0;34m\u001b[0m\u001b[0m\n",
            "\u001b[0;32m/tmp/ipython-input-1015689530.py\u001b[0m in \u001b[0;36mproduce_latest\u001b[0;34m(symbols, topic, interval)\u001b[0m\n\u001b[1;32m     46\u001b[0m                 \u001b[0;34m\"symbol\"\u001b[0m\u001b[0;34m:\u001b[0m \u001b[0msym\u001b[0m\u001b[0;34m,\u001b[0m\u001b[0;34m\u001b[0m\u001b[0;34m\u001b[0m\u001b[0m\n\u001b[1;32m     47\u001b[0m                 \u001b[0;34m\"timestamp\"\u001b[0m\u001b[0;34m:\u001b[0m \u001b[0mrow\u001b[0m\u001b[0;34m[\u001b[0m\u001b[0;34m\"Datetime\"\u001b[0m\u001b[0;34m]\u001b[0m\u001b[0;34m.\u001b[0m\u001b[0misoformat\u001b[0m\u001b[0;34m(\u001b[0m\u001b[0;34m)\u001b[0m\u001b[0;34m,\u001b[0m\u001b[0;34m\u001b[0m\u001b[0;34m\u001b[0m\u001b[0m\n\u001b[0;32m---> 48\u001b[0;31m                 \u001b[0;34m\"open\"\u001b[0m\u001b[0;34m:\u001b[0m \u001b[0mfloat\u001b[0m\u001b[0;34m(\u001b[0m\u001b[0mrow\u001b[0m\u001b[0;34m[\u001b[0m\u001b[0;34m\"Open\"\u001b[0m\u001b[0;34m]\u001b[0m\u001b[0;34m)\u001b[0m\u001b[0;34m,\u001b[0m\u001b[0;34m\u001b[0m\u001b[0;34m\u001b[0m\u001b[0m\n\u001b[0m\u001b[1;32m     49\u001b[0m                 \u001b[0;34m\"high\"\u001b[0m\u001b[0;34m:\u001b[0m \u001b[0mfloat\u001b[0m\u001b[0;34m(\u001b[0m\u001b[0mrow\u001b[0m\u001b[0;34m[\u001b[0m\u001b[0;34m\"High\"\u001b[0m\u001b[0;34m]\u001b[0m\u001b[0;34m)\u001b[0m\u001b[0;34m,\u001b[0m\u001b[0;34m\u001b[0m\u001b[0;34m\u001b[0m\u001b[0m\n\u001b[1;32m     50\u001b[0m                 \u001b[0;34m\"low\"\u001b[0m\u001b[0;34m:\u001b[0m \u001b[0mfloat\u001b[0m\u001b[0;34m(\u001b[0m\u001b[0mrow\u001b[0m\u001b[0;34m[\u001b[0m\u001b[0;34m\"Low\"\u001b[0m\u001b[0;34m]\u001b[0m\u001b[0;34m)\u001b[0m\u001b[0;34m,\u001b[0m\u001b[0;34m\u001b[0m\u001b[0;34m\u001b[0m\u001b[0m\n",
            "\u001b[0;31mTypeError\u001b[0m: float() argument must be a string or a real number, not 'NaTType'"
          ]
        }
      ],
      "source": [
        "# --- PARAMETERS ---\n",
        "KAFKA_BROKER = None  # Papermill injects this\n",
        "\n",
        "# --- CONFIG ---\n",
        "crypto_tickers = [\"BTC-USD\", \"ETH-USD\", \"SOL-USD\", \"ADA-USD\", \"XRP-USD\"]\n",
        "equity_tickers = [\"AAPL\", \"MSFT\", \"AMZN\", \"TSLA\", \"NVDA\", \"JPM\", \"XOM\", \"META\", \"GOOGL\", \"NFLX\"]\n",
        "treasury_tickers = [\"^TNX\", \"^IRX\", \"^FVX\", \"^TYX\"]\n",
        "\n",
        "crypto_topic = \"crypto_ticks\"\n",
        "equity_topic = \"equities_ticks\"\n",
        "bonds_topic = \"bonds_data\"\n",
        "\n",
        "# --- INSTALL DEPENDENCIES ---\n",
        "!pip install --quiet yfinance confluent-kafka pandas\n",
        "\n",
        "import yfinance as yf\n",
        "import json\n",
        "from confluent_kafka import Producer\n",
        "from datetime import datetime, timezone\n",
        "import pandas as pd\n",
        "\n",
        "# --- BROKER SETUP ---\n",
        "if not KAFKA_BROKER:\n",
        "    KAFKA_BROKER = \"localhost:9092\"\n",
        "\n",
        "producer = Producer({'bootstrap.servers': KAFKA_BROKER})\n",
        "\n",
        "def produce_latest(symbols, topic, interval=\"1m\"):\n",
        "    print(f\"\\n=== Fetching {topic} ===\")\n",
        "    df = yf.download(symbols, period=\"1d\", interval=interval, group_by='ticker', threads=True)\n",
        "    for sym in symbols:\n",
        "        try:\n",
        "            sym_df = df[sym].reset_index()\n",
        "        except (KeyError, AttributeError):\n",
        "            sym_df = df.reset_index()\n",
        "        # Drop rows with missing datetime or OHLCV\n",
        "        sym_df = sym_df.dropna(subset=[\"Datetime\", \"Open\", \"High\", \"Low\", \"Close\", \"Volume\"])\n",
        "        if sym_df.empty:\n",
        "            print(f\"No valid data for {sym}\")\n",
        "            continue\n",
        "        latest_ts = sym_df[\"Datetime\"].max()\n",
        "        latest_rows = sym_df[sym_df[\"Datetime\"] == latest_ts]\n",
        "        for _, row in latest_rows.iterrows():\n",
        "            msg = {\n",
        "                \"symbol\": sym,\n",
        "                \"timestamp\": row[\"Datetime\"].isoformat(),\n",
        "                \"open\": float(row[\"Open\"]),\n",
        "                \"high\": float(row[\"High\"]),\n",
        "                \"low\": float(row[\"Low\"]),\n",
        "                \"close\": float(row[\"Close\"]),\n",
        "                \"volume\": float(row[\"Volume\"]),\n",
        "                \"ingested_at\": datetime.now(timezone.utc).isoformat()\n",
        "            }\n",
        "            print(f\"[SCRAPE DEBUG] {topic} {msg}\")\n",
        "            producer.produce(topic, json.dumps(msg).encode('utf-8'))\n",
        "    producer.flush()\n",
        "\n",
        "# --- RUN SCRAPES ---\n",
        "produce_latest(crypto_tickers, crypto_topic, interval=\"1m\")\n",
        "produce_latest(equity_tickers, equity_topic, interval=\"1m\")\n",
        "produce_latest(treasury_tickers, bonds_topic, interval=\"1d\")\n",
        "\n",
        "print(\"\\n✅ All data produced to Kafka topics.\")\n",
        "\n",
        "\n"
      ]
    }
  ]
}