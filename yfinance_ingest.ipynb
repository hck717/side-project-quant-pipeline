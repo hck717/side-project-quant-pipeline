{
  "nbformat": 4,
  "nbformat_minor": 0,
  "metadata": {
    "colab": {
      "provenance": [],
      "authorship_tag": "ABX9TyOlAdpae6LlIgEAbxCMWiMZ",
      "include_colab_link": true
    },
    "kernelspec": {
      "name": "python3",
      "display_name": "Python 3"
    },
    "language_info": {
      "name": "python"
    }
  },
  "cells": [
    {
      "cell_type": "markdown",
      "metadata": {
        "id": "view-in-github",
        "colab_type": "text"
      },
      "source": [
        "<a href=\"https://colab.research.google.com/github/hck717/side-project-quant-pipeline/blob/main/yfinance_ingest.ipynb\" target=\"_parent\"><img src=\"https://colab.research.google.com/assets/colab-badge.svg\" alt=\"Open In Colab\"/></a>"
      ]
    },
    {
      "cell_type": "code",
      "execution_count": null,
      "metadata": {
        "id": "XQYa0l02jYiI"
      },
      "outputs": [],
      "source": [
        "!pip install yfinance confluent_kafka minio pyarrow --quiet\n",
        "\n",
        "import yfinance as yf\n",
        "import json\n",
        "from confluent_kafka import Producer\n",
        "from minio import Minio\n",
        "import pandas as pd\n",
        "import sys\n",
        "\n",
        "import sys\n",
        "\n",
        "# Parameters from command line (Airflow/GitHub Actions) or defaults for Colab\n",
        "if len(sys.argv) < 6:\n",
        "    print(\"⚠️ Not enough command line arguments, using defaults for Colab testing.\")\n",
        "    KAFKA_BROKER = \"localhost:9092\"\n",
        "    MINIO_ENDPOINT = \"play.min.io:9000\"\n",
        "    MINIO_ACCESS_KEY = \"minioadmin\"\n",
        "    MINIO_SECRET_KEY = \"minioadmin\"\n",
        "    BUCKET = \"demo-bucket\"\n",
        "else:\n",
        "    KAFKA_BROKER = sys.argv[1]\n",
        "    MINIO_ENDPOINT = sys.argv[2]\n",
        "    MINIO_ACCESS_KEY = sys.argv[3]\n",
        "    MINIO_SECRET_KEY = sys.argv[4]\n",
        "    BUCKET = sys.argv[5]\n",
        "\n",
        "CRYPTO_SYMBOLS = [\"BTC-USD\", \"ETH-USD\", \"SOL-USD\", \"ADA-USD\", \"XRP-USD\"]\n",
        "EQUITY_SYMBOLS = [\"AAPL\", \"MSFT\", \"GOOG\"]\n",
        "BOND_SYMBOLS = [\"^TNX\", \"^TYX\"]\n",
        "\n",
        "def fetch(symbols, period, interval):\n",
        "    return yf.download(symbols, period=period, interval=interval, group_by='ticker', threads=True)\n",
        "\n",
        "# Fetch\n",
        "crypto_df = fetch(CRYPTO_SYMBOLS, \"5d\", \"1m\")\n",
        "equities_intraday_df = fetch(EQUITY_SYMBOLS, \"5d\", \"1m\")\n",
        "equities_eod_df = fetch(EQUITY_SYMBOLS, \"1mo\", \"1d\")\n",
        "bonds_eod_df = fetch(BOND_SYMBOLS, \"1mo\", \"1d\")\n",
        "\n",
        "# Kafka producer\n",
        "p = Producer({\n",
        "    'bootstrap.servers': KAFKA_BROKER,\n",
        "    'security.protocol': 'ssl',\n",
        "    'ssl.endpoint.identification.algorithm': 'https'\n",
        "})\n",
        "\n",
        "for sym in CRYPTO_SYMBOLS:\n",
        "    try:\n",
        "        sym_df = crypto_df[sym].reset_index().dropna(subset=[\"Datetime\"])\n",
        "        latest_ts = sym_df[\"Datetime\"].max()\n",
        "        latest_rows = sym_df[sym_df[\"Datetime\"] == latest_ts]\n",
        "        for _, row in latest_rows.iterrows():\n",
        "            msg = {\n",
        "                \"symbol\": sym,\n",
        "                \"timestamp\": row[\"Datetime\"].isoformat() if pd.notna(row[\"Datetime\"]) else None,\n",
        "                \"open\": float(row[\"Open\"]) if pd.notna(row[\"Open\"]) else None,\n",
        "                \"high\": float(row[\"High\"]) if pd.notna(row[\"High\"]) else None,\n",
        "                \"low\": float(row[\"Low\"]) if pd.notna(row[\"Low\"]) else None,\n",
        "                \"close\": float(row[\"Close\"]) if pd.notna(row[\"Close\"]) else None,\n",
        "                \"volume\": float(row[\"Volume\"]) if pd.notna(row[\"Volume\"]) else None\n",
        "            }\n",
        "            p.produce(\"crypto.ticks\", json.dumps(msg).encode('utf-8'))\n",
        "    except KeyError:\n",
        "        pass\n",
        "\n",
        "# MinIO client\n",
        "client = Minio(MINIO_ENDPOINT, access_key=MINIO_ACCESS_KEY, secret_key=MINIO_SECRET_KEY, secure=True)\n",
        "\n",
        "for sym, df in [(\"equities_eod\", equities_eod_df), (\"bonds_eod\", bonds_eod_df)]:\n",
        "    for ticker in df.columns.levels[0]:\n",
        "        try:\n",
        "            sym_df = df[ticker].reset_index().dropna(subset=[\"Date\"])\n",
        "            latest_date = sym_df[\"Date\"].max().date()\n",
        "            latest_rows = sym_df[sym_df[\"Date\"].dt.date == latest_date]\n",
        "            file_name = f\"{ticker}.parquet\"\n",
        "            latest_rows.to_parquet(file_name, index=False)\n",
        "            s3_path = f\"eod/{sym}/date={latest_date}/{file_name}\"\n",
        "            client.fput_object(BUCKET, s3_path, file_name)\n",
        "        except KeyError:\n",
        "            pass\n",
        "\n",
        "print(\"✅ Colab ingestion complete\")\n",
        "\n"
      ]
    }
  ]
}