{
 "cells": [
  {
   "cell_type": "markdown",
   "id": "72e5dab5",
   "metadata": {
    "tags": [
     "papermill-error-cell-tag"
    ]
   },
   "source": [
    "<span style=\"color:red; font-family:Helvetica Neue, Helvetica, Arial, sans-serif; font-size:2em;\">An Exception was encountered at '<a href=\"#papermill-error-cell\">In [7]</a>'.</span>"
   ]
  },
  {
   "cell_type": "markdown",
   "id": "a37c7872",
   "metadata": {
    "colab_type": "text",
    "id": "view-in-github",
    "papermill": {
     "duration": 0.004675,
     "end_time": "2025-09-20T02:13:32.620982",
     "exception": false,
     "start_time": "2025-09-20T02:13:32.616307",
     "status": "completed"
    },
    "tags": []
   },
   "source": [
    "<a href=\"https://colab.research.google.com/github/hck717/side-project-quant-pipeline/blob/main/colab_scraper.ipynb\" target=\"_parent\"><img src=\"https://colab.research.google.com/assets/colab-badge.svg\" alt=\"Open In Colab\"/></a>"
   ]
  },
  {
   "cell_type": "code",
   "execution_count": 1,
   "id": "279eadc6",
   "metadata": {
    "execution": {
     "iopub.execute_input": "2025-09-20T02:13:32.628721Z",
     "iopub.status.busy": "2025-09-20T02:13:32.628276Z",
     "iopub.status.idle": "2025-09-20T02:13:32.636326Z",
     "shell.execute_reply": "2025-09-20T02:13:32.635458Z"
    },
    "id": "_2LXs138Zc_V",
    "papermill": {
     "duration": 0.014512,
     "end_time": "2025-09-20T02:13:32.639197",
     "exception": false,
     "start_time": "2025-09-20T02:13:32.624685",
     "status": "completed"
    },
    "tags": [
     "parameters"
    ]
   },
   "outputs": [],
   "source": [
    "# --- PARAMETERS CELL ---\n",
    "# Tag this cell with \"parameters\" in Jupyter/Colab metadata\n",
    "KAFKA_BROKER = \"\"  # Papermill will override this\n",
    "\n",
    "\n",
    "# --- CONFIG ---\n",
    "crypto_tickers = [\"BTC-USD\", \"ETH-USD\", \"SOL-USD\", \"ADA-USD\", \"XRP-USD\"]\n",
    "equity_tickers = [\"AAPL\", \"MSFT\", \"AMZN\", \"TSLA\", \"NVDA\", \"JPM\", \"XOM\", \"META\", \"GOOGL\", \"NFLX\"]\n",
    "treasury_tickers = [\"^TNX\", \"^IRX\", \"^FVX\", \"^TYX\"]\n",
    "\n",
    "crypto_topic = \"crypto_ticks\"\n",
    "equity_topic = \"equities_ticks\"\n",
    "bonds_topic = \"bonds_data\"\n",
    "\n",
    "\n"
   ]
  },
  {
   "cell_type": "code",
   "execution_count": 2,
   "id": "45884503",
   "metadata": {
    "execution": {
     "iopub.execute_input": "2025-09-20T02:13:32.645425Z",
     "iopub.status.busy": "2025-09-20T02:13:32.645144Z",
     "iopub.status.idle": "2025-09-20T02:13:32.650426Z",
     "shell.execute_reply": "2025-09-20T02:13:32.648458Z"
    },
    "papermill": {
     "duration": 0.011758,
     "end_time": "2025-09-20T02:13:32.653600",
     "exception": false,
     "start_time": "2025-09-20T02:13:32.641842",
     "status": "completed"
    },
    "tags": [
     "injected-parameters"
    ]
   },
   "outputs": [],
   "source": [
    "# Parameters\n",
    "KAFKA_BROKER = \"0.tcp.ap.ngrok.io:15240\"\n"
   ]
  },
  {
   "cell_type": "code",
   "execution_count": 3,
   "id": "a989a779",
   "metadata": {
    "execution": {
     "iopub.execute_input": "2025-09-20T02:13:32.658615Z",
     "iopub.status.busy": "2025-09-20T02:13:32.658231Z",
     "iopub.status.idle": "2025-09-20T02:13:35.434735Z",
     "shell.execute_reply": "2025-09-20T02:13:35.433551Z"
    },
    "id": "MeKfa6zEK7bs",
    "papermill": {
     "duration": 2.781758,
     "end_time": "2025-09-20T02:13:35.437371",
     "exception": false,
     "start_time": "2025-09-20T02:13:32.655613",
     "status": "completed"
    },
    "tags": []
   },
   "outputs": [
    {
     "name": "stdout",
     "output_type": "stream",
     "text": [
      "\r\n",
      "\u001b[1m[\u001b[0m\u001b[34;49mnotice\u001b[0m\u001b[1;39;49m]\u001b[0m\u001b[39;49m A new release of pip is available: \u001b[0m\u001b[31;49m25.1.1\u001b[0m\u001b[39;49m -> \u001b[0m\u001b[32;49m25.2\u001b[0m\r\n",
      "\u001b[1m[\u001b[0m\u001b[34;49mnotice\u001b[0m\u001b[1;39;49m]\u001b[0m\u001b[39;49m To update, run: \u001b[0m\u001b[32;49mpip install --upgrade pip\u001b[0m\r\n"
     ]
    }
   ],
   "source": [
    "# --- INSTALL DEPENDENCIES ---\n",
    "!pip install --quiet yfinance confluent-kafka pandas\n"
   ]
  },
  {
   "cell_type": "code",
   "execution_count": 4,
   "id": "1a8aa775",
   "metadata": {
    "execution": {
     "iopub.execute_input": "2025-09-20T02:13:35.444405Z",
     "iopub.status.busy": "2025-09-20T02:13:35.443989Z",
     "iopub.status.idle": "2025-09-20T02:13:39.745911Z",
     "shell.execute_reply": "2025-09-20T02:13:39.744808Z"
    },
    "id": "AD48nc9LK8on",
    "papermill": {
     "duration": 4.309568,
     "end_time": "2025-09-20T02:13:39.750526",
     "exception": false,
     "start_time": "2025-09-20T02:13:35.440958",
     "status": "completed"
    },
    "tags": []
   },
   "outputs": [],
   "source": [
    "# --- IMPORTS ---\n",
    "import yfinance as yf\n",
    "import json\n",
    "from confluent_kafka import Producer\n",
    "from datetime import datetime, timezone\n",
    "import pandas as pd\n"
   ]
  },
  {
   "cell_type": "code",
   "execution_count": 5,
   "id": "38f4e8d1",
   "metadata": {
    "execution": {
     "iopub.execute_input": "2025-09-20T02:13:39.770595Z",
     "iopub.status.busy": "2025-09-20T02:13:39.769817Z",
     "iopub.status.idle": "2025-09-20T02:13:39.898500Z",
     "shell.execute_reply": "2025-09-20T02:13:39.897208Z"
    },
    "id": "yMGXBmu1K97u",
    "papermill": {
     "duration": 0.145618,
     "end_time": "2025-09-20T02:13:39.902662",
     "exception": false,
     "start_time": "2025-09-20T02:13:39.757044",
     "status": "completed"
    },
    "tags": []
   },
   "outputs": [
    {
     "name": "stdout",
     "output_type": "stream",
     "text": [
      "📡 Connecting to Kafka broker: 0.tcp.ap.ngrok.io:15240\n"
     ]
    }
   ],
   "source": [
    "# --- BROKER SETUP ---\n",
    "if not KAFKA_BROKER:\n",
    "    KAFKA_BROKER = \"localhost:9092\"\n",
    "\n",
    "print(f\"📡 Connecting to Kafka broker: {KAFKA_BROKER}\")\n",
    "producer = Producer({'bootstrap.servers': KAFKA_BROKER})\n"
   ]
  },
  {
   "cell_type": "code",
   "execution_count": 6,
   "id": "48e88263",
   "metadata": {
    "execution": {
     "iopub.execute_input": "2025-09-20T02:13:39.918037Z",
     "iopub.status.busy": "2025-09-20T02:13:39.917281Z",
     "iopub.status.idle": "2025-09-20T02:13:39.928758Z",
     "shell.execute_reply": "2025-09-20T02:13:39.927520Z"
    },
    "id": "Z8usZI4IK_JB",
    "papermill": {
     "duration": 0.020581,
     "end_time": "2025-09-20T02:13:39.930885",
     "exception": false,
     "start_time": "2025-09-20T02:13:39.910304",
     "status": "completed"
    },
    "tags": []
   },
   "outputs": [],
   "source": [
    "# --- PRODUCE FUNCTION ---\n",
    "def produce_latest(symbols, topic, interval=\"1m\"):\n",
    "    print(f\"\\n=== Fetching {topic} ===\")\n",
    "    df = yf.download(symbols, period=\"1d\", interval=interval, group_by='ticker', threads=True)\n",
    "\n",
    "    for sym in symbols:\n",
    "        try:\n",
    "            sym_df = df[sym].reset_index()\n",
    "        except (KeyError, AttributeError):\n",
    "            sym_df = df.reset_index()\n",
    "\n",
    "        sym_df = sym_df.dropna(subset=[\"Datetime\", \"Open\", \"High\", \"Low\", \"Close\", \"Volume\"])\n",
    "        if sym_df.empty:\n",
    "            print(f\"⚠️ No valid data for {sym}\")\n",
    "            continue\n",
    "\n",
    "        latest_ts = sym_df[\"Datetime\"].max()\n",
    "        latest_rows = sym_df[sym_df[\"Datetime\"] == latest_ts]\n",
    "\n",
    "        for _, row in latest_rows.iterrows():\n",
    "            msg = {\n",
    "                \"symbol\": sym,\n",
    "                \"timestamp\": row[\"Datetime\"].isoformat(),\n",
    "                \"open\": float(row[\"Open\"]),\n",
    "                \"high\": float(row[\"High\"]),\n",
    "                \"low\": float(row[\"Low\"]),\n",
    "                \"close\": float(row[\"Close\"]),\n",
    "                \"volume\": float(row[\"Volume\"]),\n",
    "                \"ingested_at\": datetime.now(timezone.utc).isoformat()\n",
    "            }\n",
    "            print(f\"[SCRAPE DEBUG] {topic} {msg}\")\n",
    "            try:\n",
    "                producer.produce(topic, json.dumps(msg).encode('utf-8'))\n",
    "            except BufferError as e:\n",
    "                print(f\"❌ Failed to produce message for {sym}: {e}\")\n",
    "\n",
    "    producer.flush()\n"
   ]
  },
  {
   "cell_type": "markdown",
   "id": "fb8c80f7",
   "metadata": {
    "tags": [
     "papermill-error-cell-tag"
    ]
   },
   "source": [
    "<span id=\"papermill-error-cell\" style=\"color:red; font-family:Helvetica Neue, Helvetica, Arial, sans-serif; font-size:2em;\">Execution using papermill encountered an exception here and stopped:</span>"
   ]
  },
  {
   "cell_type": "code",
   "execution_count": 7,
   "id": "37e9171c",
   "metadata": {
    "execution": {
     "iopub.execute_input": "2025-09-20T02:13:39.940351Z",
     "iopub.status.busy": "2025-09-20T02:13:39.939715Z",
     "iopub.status.idle": "2025-09-20T02:13:42.304415Z",
     "shell.execute_reply": "2025-09-20T02:13:42.298656Z"
    },
    "id": "3-RFNEnQLBw5",
    "papermill": {
     "duration": 2.375175,
     "end_time": "2025-09-20T02:13:42.310928",
     "exception": true,
     "start_time": "2025-09-20T02:13:39.935753",
     "status": "failed"
    },
    "tags": []
   },
   "outputs": [
    {
     "name": "stdout",
     "output_type": "stream",
     "text": [
      "\n",
      "=== Fetching crypto_ticks ===\n"
     ]
    },
    {
     "name": "stderr",
     "output_type": "stream",
     "text": [
      "/var/folders/_g/hjt_kwhs5lj3kk67k0cpmbpm0000gn/T/ipykernel_45427/3463759284.py:4: FutureWarning: YF.download() has changed argument auto_adjust default to True\n",
      "  df = yf.download(symbols, period=\"1d\", interval=interval, group_by='ticker', threads=True)\n"
     ]
    },
    {
     "name": "stderr",
     "output_type": "stream",
     "text": [
      "\r",
      "[                       0%                       ]"
     ]
    },
    {
     "name": "stderr",
     "output_type": "stream",
     "text": [
      "\r",
      "[                       0%                       ]\r",
      "[                       0%                       ]\r",
      "[                       0%                       ]"
     ]
    },
    {
     "name": "stderr",
     "output_type": "stream",
     "text": [
      "\r",
      "[*********************100%***********************]  5 of 5 completed"
     ]
    },
    {
     "name": "stderr",
     "output_type": "stream",
     "text": [
      "\n",
      "/var/folders/_g/hjt_kwhs5lj3kk67k0cpmbpm0000gn/T/ipykernel_45427/3463759284.py:4: FutureWarning: YF.download() has changed argument auto_adjust default to True\n",
      "  df = yf.download(symbols, period=\"1d\", interval=interval, group_by='ticker', threads=True)\n"
     ]
    },
    {
     "name": "stdout",
     "output_type": "stream",
     "text": [
      "[SCRAPE DEBUG] crypto_ticks {'symbol': 'BTC-USD', 'timestamp': '2025-09-20T02:11:00+00:00', 'open': 115570.328125, 'high': 115570.328125, 'low': 115570.328125, 'close': 115570.328125, 'volume': 4993024.0, 'ingested_at': '2025-09-20T02:13:40.586172+00:00'}\n",
      "[SCRAPE DEBUG] crypto_ticks {'symbol': 'ETH-USD', 'timestamp': '2025-09-20T02:10:00+00:00', 'open': 4464.9736328125, 'high': 4464.9736328125, 'low': 4464.9736328125, 'close': 4464.9736328125, 'volume': 9058304.0, 'ingested_at': '2025-09-20T02:13:40.591658+00:00'}\n",
      "[SCRAPE DEBUG] crypto_ticks {'symbol': 'SOL-USD', 'timestamp': '2025-09-20T02:11:00+00:00', 'open': 238.17922973632812, 'high': 238.17922973632812, 'low': 238.17922973632812, 'close': 238.17922973632812, 'volume': 0.0, 'ingested_at': '2025-09-20T02:13:40.595314+00:00'}\n",
      "[SCRAPE DEBUG] crypto_ticks {'symbol': 'ADA-USD', 'timestamp': '2025-09-20T02:11:00+00:00', 'open': 0.8926643133163452, 'high': 0.8926643133163452, 'low': 0.8926643133163452, 'close': 0.8926643133163452, 'volume': 45824.0, 'ingested_at': '2025-09-20T02:13:40.598492+00:00'}\n",
      "[SCRAPE DEBUG] crypto_ticks {'symbol': 'XRP-USD', 'timestamp': '2025-09-20T02:11:00+00:00', 'open': 2.989572048187256, 'high': 2.989572048187256, 'low': 2.989572048187256, 'close': 2.989572048187256, 'volume': 0.0, 'ingested_at': '2025-09-20T02:13:40.602483+00:00'}\n",
      "\n",
      "=== Fetching equities_ticks ===\n"
     ]
    },
    {
     "name": "stderr",
     "output_type": "stream",
     "text": [
      "\r",
      "[                       0%                       ]"
     ]
    },
    {
     "name": "stderr",
     "output_type": "stream",
     "text": [
      "\r",
      "[**********            20%                       ]  2 of 10 completed"
     ]
    },
    {
     "name": "stderr",
     "output_type": "stream",
     "text": [
      "\r",
      "[**********            20%                       ]  2 of 10 completed\r",
      "[**********            20%                       ]  2 of 10 completed"
     ]
    },
    {
     "name": "stderr",
     "output_type": "stream",
     "text": [
      "\r",
      "[**********************50%                       ]  5 of 10 completed\r",
      "[**********************60%****                   ]  6 of 10 completed\r",
      "[**********************60%****                   ]  6 of 10 completed"
     ]
    },
    {
     "name": "stderr",
     "output_type": "stream",
     "text": [
      "\r",
      "[**********************80%*************          ]  8 of 10 completed"
     ]
    },
    {
     "name": "stderr",
     "output_type": "stream",
     "text": [
      "\r",
      "[**********************90%******************     ]  9 of 10 completed"
     ]
    },
    {
     "name": "stderr",
     "output_type": "stream",
     "text": [
      "\r",
      "[*********************100%***********************]  10 of 10 completed"
     ]
    },
    {
     "name": "stderr",
     "output_type": "stream",
     "text": [
      "\n"
     ]
    },
    {
     "name": "stdout",
     "output_type": "stream",
     "text": [
      "[SCRAPE DEBUG] equities_ticks {'symbol': 'AAPL', 'timestamp': '2025-09-19T19:59:00+00:00', 'open': 245.6114044189453, 'high': 245.625, 'low': 245.27999877929688, 'close': 245.2899932861328, 'volume': 1809302.0, 'ingested_at': '2025-09-20T02:13:41.412283+00:00'}\n",
      "[SCRAPE DEBUG] equities_ticks {'symbol': 'MSFT', 'timestamp': '2025-09-19T19:59:00+00:00', 'open': 517.719970703125, 'high': 518.3800048828125, 'low': 517.3400268554688, 'close': 518.0, 'volume': 1703862.0, 'ingested_at': '2025-09-20T02:13:41.417613+00:00'}\n",
      "[SCRAPE DEBUG] equities_ticks {'symbol': 'AMZN', 'timestamp': '2025-09-19T19:59:00+00:00', 'open': 231.75, 'high': 231.75, 'low': 231.3699951171875, 'close': 231.60000610351562, 'volume': 1044113.0, 'ingested_at': '2025-09-20T02:13:41.420583+00:00'}\n",
      "[SCRAPE DEBUG] equities_ticks {'symbol': 'TSLA', 'timestamp': '2025-09-19T19:59:00+00:00', 'open': 426.29998779296875, 'high': 426.32000732421875, 'low': 425.8399963378906, 'close': 425.8699951171875, 'volume': 689225.0, 'ingested_at': '2025-09-20T02:13:41.422779+00:00'}\n",
      "[SCRAPE DEBUG] equities_ticks {'symbol': 'NVDA', 'timestamp': '2025-09-19T19:59:00+00:00', 'open': 176.8350067138672, 'high': 178.0, 'low': 176.5019073486328, 'close': 176.5019073486328, 'volume': 2864525.0, 'ingested_at': '2025-09-20T02:13:41.425443+00:00'}\n",
      "[SCRAPE DEBUG] equities_ticks {'symbol': 'JPM', 'timestamp': '2025-09-19T19:59:00+00:00', 'open': 314.8500061035156, 'high': 315.7300109863281, 'low': 313.8399963378906, 'close': 314.7200012207031, 'volume': 420541.0, 'ingested_at': '2025-09-20T02:13:41.428720+00:00'}\n",
      "[SCRAPE DEBUG] equities_ticks {'symbol': 'XOM', 'timestamp': '2025-09-19T19:59:00+00:00', 'open': 112.8499984741211, 'high': 112.91000366210938, 'low': 112.63999938964844, 'close': 112.83499908447266, 'volume': 862060.0, 'ingested_at': '2025-09-20T02:13:41.433233+00:00'}\n",
      "[SCRAPE DEBUG] equities_ticks {'symbol': 'META', 'timestamp': '2025-09-19T19:59:00+00:00', 'open': 778.260009765625, 'high': 778.8800048828125, 'low': 778.0900268554688, 'close': 778.3499755859375, 'volume': 395373.0, 'ingested_at': '2025-09-20T02:13:41.437506+00:00'}\n",
      "[SCRAPE DEBUG] equities_ticks {'symbol': 'GOOGL', 'timestamp': '2025-09-19T19:59:00+00:00', 'open': 255.1300048828125, 'high': 255.1300048828125, 'low': 254.61000061035156, 'close': 254.65499877929688, 'volume': 889712.0, 'ingested_at': '2025-09-20T02:13:41.440481+00:00'}\n",
      "[SCRAPE DEBUG] equities_ticks {'symbol': 'NFLX', 'timestamp': '2025-09-19T19:59:00+00:00', 'open': 1228.5, 'high': 1228.5, 'low': 1226.6300048828125, 'close': 1226.6400146484375, 'volume': 92704.0, 'ingested_at': '2025-09-20T02:13:41.443773+00:00'}\n"
     ]
    },
    {
     "name": "stderr",
     "output_type": "stream",
     "text": [
      "/var/folders/_g/hjt_kwhs5lj3kk67k0cpmbpm0000gn/T/ipykernel_45427/3463759284.py:4: FutureWarning: YF.download() has changed argument auto_adjust default to True\n",
      "  df = yf.download(symbols, period=\"1d\", interval=interval, group_by='ticker', threads=True)\n",
      "\r",
      "[                       0%                       ]"
     ]
    },
    {
     "name": "stdout",
     "output_type": "stream",
     "text": [
      "\n",
      "=== Fetching bonds_data ===\n"
     ]
    },
    {
     "name": "stderr",
     "output_type": "stream",
     "text": [
      "\r",
      "[**********************50%                       ]  2 of 4 completed\r",
      "[**********************50%                       ]  2 of 4 completed"
     ]
    },
    {
     "name": "stderr",
     "output_type": "stream",
     "text": [
      "\r",
      "[*********************100%***********************]  4 of 4 completed"
     ]
    },
    {
     "name": "stderr",
     "output_type": "stream",
     "text": [
      "\n"
     ]
    },
    {
     "ename": "KeyError",
     "evalue": "['Datetime']",
     "output_type": "error",
     "traceback": [
      "\u001b[0;31m---------------------------------------------------------------------------\u001b[0m",
      "\u001b[0;31mKeyError\u001b[0m                                  Traceback (most recent call last)",
      "\u001b[0;32m/var/folders/_g/hjt_kwhs5lj3kk67k0cpmbpm0000gn/T/ipykernel_45427/196483309.py\u001b[0m in \u001b[0;36m?\u001b[0;34m()\u001b[0m\n\u001b[1;32m      1\u001b[0m \u001b[0;31m# --- RUN SCRAPES ---\u001b[0m\u001b[0;34m\u001b[0m\u001b[0;34m\u001b[0m\u001b[0m\n\u001b[1;32m      2\u001b[0m \u001b[0mproduce_latest\u001b[0m\u001b[0;34m(\u001b[0m\u001b[0mcrypto_tickers\u001b[0m\u001b[0;34m,\u001b[0m \u001b[0mcrypto_topic\u001b[0m\u001b[0;34m,\u001b[0m \u001b[0minterval\u001b[0m\u001b[0;34m=\u001b[0m\u001b[0;34m\"1m\"\u001b[0m\u001b[0;34m)\u001b[0m\u001b[0;34m\u001b[0m\u001b[0;34m\u001b[0m\u001b[0m\n\u001b[1;32m      3\u001b[0m \u001b[0mproduce_latest\u001b[0m\u001b[0;34m(\u001b[0m\u001b[0mequity_tickers\u001b[0m\u001b[0;34m,\u001b[0m \u001b[0mequity_topic\u001b[0m\u001b[0;34m,\u001b[0m \u001b[0minterval\u001b[0m\u001b[0;34m=\u001b[0m\u001b[0;34m\"1m\"\u001b[0m\u001b[0;34m)\u001b[0m\u001b[0;34m\u001b[0m\u001b[0;34m\u001b[0m\u001b[0m\n\u001b[0;32m----> 4\u001b[0;31m \u001b[0mproduce_latest\u001b[0m\u001b[0;34m(\u001b[0m\u001b[0mtreasury_tickers\u001b[0m\u001b[0;34m,\u001b[0m \u001b[0mbonds_topic\u001b[0m\u001b[0;34m,\u001b[0m \u001b[0minterval\u001b[0m\u001b[0;34m=\u001b[0m\u001b[0;34m\"1d\"\u001b[0m\u001b[0;34m)\u001b[0m\u001b[0;34m\u001b[0m\u001b[0;34m\u001b[0m\u001b[0m\n\u001b[0m\u001b[1;32m      5\u001b[0m \u001b[0;34m\u001b[0m\u001b[0m\n\u001b[1;32m      6\u001b[0m \u001b[0mprint\u001b[0m\u001b[0;34m(\u001b[0m\u001b[0;34m\"\\n✅ All data produced to Kafka topics.\"\u001b[0m\u001b[0;34m)\u001b[0m\u001b[0;34m\u001b[0m\u001b[0;34m\u001b[0m\u001b[0m\n\u001b[1;32m      7\u001b[0m \u001b[0;34m\u001b[0m\u001b[0m\n",
      "\u001b[0;32m/var/folders/_g/hjt_kwhs5lj3kk67k0cpmbpm0000gn/T/ipykernel_45427/3463759284.py\u001b[0m in \u001b[0;36m?\u001b[0;34m(symbols, topic, interval)\u001b[0m\n\u001b[1;32m      8\u001b[0m             \u001b[0msym_df\u001b[0m \u001b[0;34m=\u001b[0m \u001b[0mdf\u001b[0m\u001b[0;34m[\u001b[0m\u001b[0msym\u001b[0m\u001b[0;34m]\u001b[0m\u001b[0;34m.\u001b[0m\u001b[0mreset_index\u001b[0m\u001b[0;34m(\u001b[0m\u001b[0;34m)\u001b[0m\u001b[0;34m\u001b[0m\u001b[0;34m\u001b[0m\u001b[0m\n\u001b[1;32m      9\u001b[0m         \u001b[0;32mexcept\u001b[0m \u001b[0;34m(\u001b[0m\u001b[0mKeyError\u001b[0m\u001b[0;34m,\u001b[0m \u001b[0mAttributeError\u001b[0m\u001b[0;34m)\u001b[0m\u001b[0;34m:\u001b[0m\u001b[0;34m\u001b[0m\u001b[0;34m\u001b[0m\u001b[0m\n\u001b[1;32m     10\u001b[0m             \u001b[0msym_df\u001b[0m \u001b[0;34m=\u001b[0m \u001b[0mdf\u001b[0m\u001b[0;34m.\u001b[0m\u001b[0mreset_index\u001b[0m\u001b[0;34m(\u001b[0m\u001b[0;34m)\u001b[0m\u001b[0;34m\u001b[0m\u001b[0;34m\u001b[0m\u001b[0m\n\u001b[1;32m     11\u001b[0m \u001b[0;34m\u001b[0m\u001b[0m\n\u001b[0;32m---> 12\u001b[0;31m         \u001b[0msym_df\u001b[0m \u001b[0;34m=\u001b[0m \u001b[0msym_df\u001b[0m\u001b[0;34m.\u001b[0m\u001b[0mdropna\u001b[0m\u001b[0;34m(\u001b[0m\u001b[0msubset\u001b[0m\u001b[0;34m=\u001b[0m\u001b[0;34m[\u001b[0m\u001b[0;34m\"Datetime\"\u001b[0m\u001b[0;34m,\u001b[0m \u001b[0;34m\"Open\"\u001b[0m\u001b[0;34m,\u001b[0m \u001b[0;34m\"High\"\u001b[0m\u001b[0;34m,\u001b[0m \u001b[0;34m\"Low\"\u001b[0m\u001b[0;34m,\u001b[0m \u001b[0;34m\"Close\"\u001b[0m\u001b[0;34m,\u001b[0m \u001b[0;34m\"Volume\"\u001b[0m\u001b[0;34m]\u001b[0m\u001b[0;34m)\u001b[0m\u001b[0;34m\u001b[0m\u001b[0;34m\u001b[0m\u001b[0m\n\u001b[0m\u001b[1;32m     13\u001b[0m         \u001b[0;32mif\u001b[0m \u001b[0msym_df\u001b[0m\u001b[0;34m.\u001b[0m\u001b[0mempty\u001b[0m\u001b[0;34m:\u001b[0m\u001b[0;34m\u001b[0m\u001b[0;34m\u001b[0m\u001b[0m\n\u001b[1;32m     14\u001b[0m             \u001b[0mprint\u001b[0m\u001b[0;34m(\u001b[0m\u001b[0;34mf\"\u001b[0m\u001b[0;34m⚠️ No valid data for \u001b[0m\u001b[0;34m{\u001b[0m\u001b[0msym\u001b[0m\u001b[0;34m}\u001b[0m\u001b[0;34m\"\u001b[0m\u001b[0;34m)\u001b[0m\u001b[0;34m\u001b[0m\u001b[0;34m\u001b[0m\u001b[0m\n\u001b[1;32m     15\u001b[0m             \u001b[0;32mcontinue\u001b[0m\u001b[0;34m\u001b[0m\u001b[0;34m\u001b[0m\u001b[0m\n",
      "\u001b[0;32m/Library/Frameworks/Python.framework/Versions/3.13/lib/python3.13/site-packages/pandas/core/frame.py\u001b[0m in \u001b[0;36m?\u001b[0;34m(self, axis, how, thresh, subset, inplace, ignore_index)\u001b[0m\n\u001b[1;32m   6673\u001b[0m             \u001b[0max\u001b[0m \u001b[0;34m=\u001b[0m \u001b[0mself\u001b[0m\u001b[0;34m.\u001b[0m\u001b[0m_get_axis\u001b[0m\u001b[0;34m(\u001b[0m\u001b[0magg_axis\u001b[0m\u001b[0;34m)\u001b[0m\u001b[0;34m\u001b[0m\u001b[0;34m\u001b[0m\u001b[0m\n\u001b[1;32m   6674\u001b[0m             \u001b[0mindices\u001b[0m \u001b[0;34m=\u001b[0m \u001b[0max\u001b[0m\u001b[0;34m.\u001b[0m\u001b[0mget_indexer_for\u001b[0m\u001b[0;34m(\u001b[0m\u001b[0msubset\u001b[0m\u001b[0;34m)\u001b[0m\u001b[0;34m\u001b[0m\u001b[0;34m\u001b[0m\u001b[0m\n\u001b[1;32m   6675\u001b[0m             \u001b[0mcheck\u001b[0m \u001b[0;34m=\u001b[0m \u001b[0mindices\u001b[0m \u001b[0;34m==\u001b[0m \u001b[0;34m-\u001b[0m\u001b[0;36m1\u001b[0m\u001b[0;34m\u001b[0m\u001b[0;34m\u001b[0m\u001b[0m\n\u001b[1;32m   6676\u001b[0m             \u001b[0;32mif\u001b[0m \u001b[0mcheck\u001b[0m\u001b[0;34m.\u001b[0m\u001b[0many\u001b[0m\u001b[0;34m(\u001b[0m\u001b[0;34m)\u001b[0m\u001b[0;34m:\u001b[0m\u001b[0;34m\u001b[0m\u001b[0;34m\u001b[0m\u001b[0m\n\u001b[0;32m-> 6677\u001b[0;31m                 \u001b[0;32mraise\u001b[0m \u001b[0mKeyError\u001b[0m\u001b[0;34m(\u001b[0m\u001b[0mnp\u001b[0m\u001b[0;34m.\u001b[0m\u001b[0marray\u001b[0m\u001b[0;34m(\u001b[0m\u001b[0msubset\u001b[0m\u001b[0;34m)\u001b[0m\u001b[0;34m[\u001b[0m\u001b[0mcheck\u001b[0m\u001b[0;34m]\u001b[0m\u001b[0;34m.\u001b[0m\u001b[0mtolist\u001b[0m\u001b[0;34m(\u001b[0m\u001b[0;34m)\u001b[0m\u001b[0;34m)\u001b[0m\u001b[0;34m\u001b[0m\u001b[0;34m\u001b[0m\u001b[0m\n\u001b[0m\u001b[1;32m   6678\u001b[0m             \u001b[0magg_obj\u001b[0m \u001b[0;34m=\u001b[0m \u001b[0mself\u001b[0m\u001b[0;34m.\u001b[0m\u001b[0mtake\u001b[0m\u001b[0;34m(\u001b[0m\u001b[0mindices\u001b[0m\u001b[0;34m,\u001b[0m \u001b[0maxis\u001b[0m\u001b[0;34m=\u001b[0m\u001b[0magg_axis\u001b[0m\u001b[0;34m)\u001b[0m\u001b[0;34m\u001b[0m\u001b[0;34m\u001b[0m\u001b[0m\n\u001b[1;32m   6679\u001b[0m \u001b[0;34m\u001b[0m\u001b[0m\n\u001b[1;32m   6680\u001b[0m         \u001b[0;32mif\u001b[0m \u001b[0mthresh\u001b[0m \u001b[0;32mis\u001b[0m \u001b[0;32mnot\u001b[0m \u001b[0mlib\u001b[0m\u001b[0;34m.\u001b[0m\u001b[0mno_default\u001b[0m\u001b[0;34m:\u001b[0m\u001b[0;34m\u001b[0m\u001b[0;34m\u001b[0m\u001b[0m\n",
      "\u001b[0;31mKeyError\u001b[0m: ['Datetime']"
     ]
    }
   ],
   "source": [
    "# --- RUN SCRAPES ---\n",
    "produce_latest(crypto_tickers, crypto_topic, interval=\"1m\")\n",
    "produce_latest(equity_tickers, equity_topic, interval=\"1m\")\n",
    "produce_latest(treasury_tickers, bonds_topic, interval=\"1d\")\n",
    "\n",
    "print(\"\\n✅ All data produced to Kafka topics.\")\n",
    "\n"
   ]
  }
 ],
 "metadata": {
  "colab": {
   "authorship_tag": "ABX9TyOYWhllEsQWx0x4t0dUSNjn",
   "include_colab_link": true,
   "provenance": []
  },
  "kernelspec": {
   "display_name": "Python 3",
   "name": "python3"
  },
  "language_info": {
   "codemirror_mode": {
    "name": "ipython",
    "version": 3
   },
   "file_extension": ".py",
   "mimetype": "text/x-python",
   "name": "python",
   "nbconvert_exporter": "python",
   "pygments_lexer": "ipython3",
   "version": "3.13.2"
  },
  "papermill": {
   "default_parameters": {},
   "duration": 14.097941,
   "end_time": "2025-09-20T02:13:43.300854",
   "environment_variables": {},
   "exception": true,
   "input_path": "colab_scraper.ipynb",
   "output_path": "out.ipynb",
   "parameters": {
    "KAFKA_BROKER": "0.tcp.ap.ngrok.io:15240"
   },
   "start_time": "2025-09-20T02:13:29.202913",
   "version": "2.6.0"
  }
 },
 "nbformat": 4,
 "nbformat_minor": 5
}